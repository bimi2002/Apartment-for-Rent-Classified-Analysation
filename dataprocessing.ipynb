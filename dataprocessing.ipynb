{
 "cells": [
  {
   "cell_type": "markdown",
   "metadata": {},
   "source": [
    "### The libraries needed"
   ]
  },
  {
   "cell_type": "code",
   "execution_count": 2,
   "metadata": {},
   "outputs": [],
   "source": [
    "import pandas as pd\n",
    "import numpy as np\n",
    "from scipy import stats\n",
    "import chardet"
   ]
  },
  {
   "cell_type": "markdown",
   "metadata": {},
   "source": [
    "Finding the encoding of the dataset"
   ]
  },
  {
   "cell_type": "code",
   "execution_count": 3,
   "metadata": {},
   "outputs": [
    {
     "name": "stdout",
     "output_type": "stream",
     "text": [
      "Windows-1252\n"
     ]
    }
   ],
   "source": [
    "\n",
    "with open(\"dataset.csv\", \"rb\") as f:\n",
    "    result = chardet.detect(f.read(100000))  # Read a chunk of the file\n",
    "    print(result[\"encoding\"])  # Print the detected encoding\n"
   ]
  },
  {
   "cell_type": "markdown",
   "metadata": {},
   "source": [
    "Loading the dataset but only some of the columns we need \n"
   ]
  },
  {
   "cell_type": "code",
   "execution_count": 4,
   "metadata": {},
   "outputs": [
    {
     "data": {
      "text/html": [
       "<div>\n",
       "<style scoped>\n",
       "    .dataframe tbody tr th:only-of-type {\n",
       "        vertical-align: middle;\n",
       "    }\n",
       "\n",
       "    .dataframe tbody tr th {\n",
       "        vertical-align: top;\n",
       "    }\n",
       "\n",
       "    .dataframe thead th {\n",
       "        text-align: right;\n",
       "    }\n",
       "</style>\n",
       "<table border=\"1\" class=\"dataframe\">\n",
       "  <thead>\n",
       "    <tr style=\"text-align: right;\">\n",
       "      <th></th>\n",
       "      <th>id</th>\n",
       "      <th>category</th>\n",
       "      <th>title</th>\n",
       "      <th>bathrooms</th>\n",
       "      <th>bedrooms</th>\n",
       "      <th>currency</th>\n",
       "      <th>pets_allowed</th>\n",
       "      <th>price</th>\n",
       "      <th>square_feet</th>\n",
       "      <th>state</th>\n",
       "    </tr>\n",
       "  </thead>\n",
       "  <tbody>\n",
       "    <tr>\n",
       "      <th>0</th>\n",
       "      <td>5668640009</td>\n",
       "      <td>housing/rent/apartment</td>\n",
       "      <td>One BR 507 &amp; 509 Esplanade</td>\n",
       "      <td>1.0</td>\n",
       "      <td>1.0</td>\n",
       "      <td>USD</td>\n",
       "      <td>Cats</td>\n",
       "      <td>2195.0</td>\n",
       "      <td>542</td>\n",
       "      <td>CA</td>\n",
       "    </tr>\n",
       "    <tr>\n",
       "      <th>1</th>\n",
       "      <td>5668639818</td>\n",
       "      <td>housing/rent/apartment</td>\n",
       "      <td>Three BR 146 Lochview Drive</td>\n",
       "      <td>1.5</td>\n",
       "      <td>3.0</td>\n",
       "      <td>USD</td>\n",
       "      <td>Cats,Dogs</td>\n",
       "      <td>1250.0</td>\n",
       "      <td>1500</td>\n",
       "      <td>VA</td>\n",
       "    </tr>\n",
       "    <tr>\n",
       "      <th>2</th>\n",
       "      <td>5668639686</td>\n",
       "      <td>housing/rent/apartment</td>\n",
       "      <td>Three BR 3101 Morningside Drive</td>\n",
       "      <td>2.0</td>\n",
       "      <td>3.0</td>\n",
       "      <td>USD</td>\n",
       "      <td>NaN</td>\n",
       "      <td>1395.0</td>\n",
       "      <td>1650</td>\n",
       "      <td>NC</td>\n",
       "    </tr>\n",
       "    <tr>\n",
       "      <th>3</th>\n",
       "      <td>5668639659</td>\n",
       "      <td>housing/rent/apartment</td>\n",
       "      <td>Two BR 209 Aegean Way</td>\n",
       "      <td>1.0</td>\n",
       "      <td>2.0</td>\n",
       "      <td>USD</td>\n",
       "      <td>Cats,Dogs</td>\n",
       "      <td>1600.0</td>\n",
       "      <td>820</td>\n",
       "      <td>CA</td>\n",
       "    </tr>\n",
       "    <tr>\n",
       "      <th>4</th>\n",
       "      <td>5668639374</td>\n",
       "      <td>housing/rent/apartment</td>\n",
       "      <td>One BR 4805 Marquette NE</td>\n",
       "      <td>1.0</td>\n",
       "      <td>1.0</td>\n",
       "      <td>USD</td>\n",
       "      <td>Cats,Dogs</td>\n",
       "      <td>975.0</td>\n",
       "      <td>624</td>\n",
       "      <td>NM</td>\n",
       "    </tr>\n",
       "    <tr>\n",
       "      <th>...</th>\n",
       "      <td>...</td>\n",
       "      <td>...</td>\n",
       "      <td>...</td>\n",
       "      <td>...</td>\n",
       "      <td>...</td>\n",
       "      <td>...</td>\n",
       "      <td>...</td>\n",
       "      <td>...</td>\n",
       "      <td>...</td>\n",
       "      <td>...</td>\n",
       "    </tr>\n",
       "    <tr>\n",
       "      <th>95</th>\n",
       "      <td>5668633801</td>\n",
       "      <td>housing/rent/apartment</td>\n",
       "      <td>Two BR 1917 S. 18th St.</td>\n",
       "      <td>1.0</td>\n",
       "      <td>2.0</td>\n",
       "      <td>USD</td>\n",
       "      <td>Cats,Dogs</td>\n",
       "      <td>1015.0</td>\n",
       "      <td>845</td>\n",
       "      <td>NE</td>\n",
       "    </tr>\n",
       "    <tr>\n",
       "      <th>96</th>\n",
       "      <td>5668632658</td>\n",
       "      <td>housing/rent/apartment</td>\n",
       "      <td>Three BR 7312 South 81st Street</td>\n",
       "      <td>2.0</td>\n",
       "      <td>3.0</td>\n",
       "      <td>USD</td>\n",
       "      <td>Cats,Dogs</td>\n",
       "      <td>1495.0</td>\n",
       "      <td>1850</td>\n",
       "      <td>NE</td>\n",
       "    </tr>\n",
       "    <tr>\n",
       "      <th>97</th>\n",
       "      <td>5668632537</td>\n",
       "      <td>housing/rent/apartment</td>\n",
       "      <td>One BR 4301 Grand Avenue Parkway</td>\n",
       "      <td>1.0</td>\n",
       "      <td>1.0</td>\n",
       "      <td>USD</td>\n",
       "      <td>NaN</td>\n",
       "      <td>1103.0</td>\n",
       "      <td>652</td>\n",
       "      <td>TX</td>\n",
       "    </tr>\n",
       "    <tr>\n",
       "      <th>98</th>\n",
       "      <td>5668632393</td>\n",
       "      <td>housing/rent/apartment</td>\n",
       "      <td>One BR 2101 W. ANDERSON LN.</td>\n",
       "      <td>1.0</td>\n",
       "      <td>1.0</td>\n",
       "      <td>USD</td>\n",
       "      <td>NaN</td>\n",
       "      <td>1032.0</td>\n",
       "      <td>600</td>\n",
       "      <td>TX</td>\n",
       "    </tr>\n",
       "    <tr>\n",
       "      <th>99</th>\n",
       "      <td>5668632355</td>\n",
       "      <td>housing/rent/apartment</td>\n",
       "      <td>Studio apartment 311 Bowie</td>\n",
       "      <td>1.0</td>\n",
       "      <td>2.0</td>\n",
       "      <td>USD</td>\n",
       "      <td>NaN</td>\n",
       "      <td>1729.0</td>\n",
       "      <td>448</td>\n",
       "      <td>TX</td>\n",
       "    </tr>\n",
       "  </tbody>\n",
       "</table>\n",
       "<p>100 rows × 10 columns</p>\n",
       "</div>"
      ],
      "text/plain": [
       "            id                category                             title  \\\n",
       "0   5668640009  housing/rent/apartment        One BR 507 & 509 Esplanade   \n",
       "1   5668639818  housing/rent/apartment       Three BR 146 Lochview Drive   \n",
       "2   5668639686  housing/rent/apartment   Three BR 3101 Morningside Drive   \n",
       "3   5668639659  housing/rent/apartment             Two BR 209 Aegean Way   \n",
       "4   5668639374  housing/rent/apartment          One BR 4805 Marquette NE   \n",
       "..         ...                     ...                               ...   \n",
       "95  5668633801  housing/rent/apartment           Two BR 1917 S. 18th St.   \n",
       "96  5668632658  housing/rent/apartment   Three BR 7312 South 81st Street   \n",
       "97  5668632537  housing/rent/apartment  One BR 4301 Grand Avenue Parkway   \n",
       "98  5668632393  housing/rent/apartment       One BR 2101 W. ANDERSON LN.   \n",
       "99  5668632355  housing/rent/apartment        Studio apartment 311 Bowie   \n",
       "\n",
       "    bathrooms  bedrooms currency pets_allowed   price  square_feet state  \n",
       "0         1.0       1.0      USD         Cats  2195.0          542    CA  \n",
       "1         1.5       3.0      USD    Cats,Dogs  1250.0         1500    VA  \n",
       "2         2.0       3.0      USD          NaN  1395.0         1650    NC  \n",
       "3         1.0       2.0      USD    Cats,Dogs  1600.0          820    CA  \n",
       "4         1.0       1.0      USD    Cats,Dogs   975.0          624    NM  \n",
       "..        ...       ...      ...          ...     ...          ...   ...  \n",
       "95        1.0       2.0      USD    Cats,Dogs  1015.0          845    NE  \n",
       "96        2.0       3.0      USD    Cats,Dogs  1495.0         1850    NE  \n",
       "97        1.0       1.0      USD          NaN  1103.0          652    TX  \n",
       "98        1.0       1.0      USD          NaN  1032.0          600    TX  \n",
       "99        1.0       2.0      USD          NaN  1729.0          448    TX  \n",
       "\n",
       "[100 rows x 10 columns]"
      ]
     },
     "execution_count": 4,
     "metadata": {},
     "output_type": "execute_result"
    }
   ],
   "source": [
    "df=pd.read_csv(\"dataset.csv\", encoding=\"Windows-1252\", sep=\";\",usecols=[0,1,2,5,6,7,10,11,14,17])\n",
    "df.head(100)"
   ]
  },
  {
   "cell_type": "markdown",
   "metadata": {},
   "source": [
    "Lets drop the NaN values for the important variables"
   ]
  },
  {
   "cell_type": "code",
   "execution_count": 5,
   "metadata": {},
   "outputs": [],
   "source": [
    "df = df.dropna(subset=[\"price\"])"
   ]
  },
  {
   "cell_type": "code",
   "execution_count": 6,
   "metadata": {},
   "outputs": [
    {
     "data": {
      "text/plain": [
       "square_feet\n",
       "False    99491\n",
       "Name: count, dtype: int64"
      ]
     },
     "execution_count": 6,
     "metadata": {},
     "output_type": "execute_result"
    }
   ],
   "source": [
    "df[\"square_feet\"].isna().value_counts()\n",
    "#it doesnt have nan values so we will not perform anything"
   ]
  },
  {
   "cell_type": "markdown",
   "metadata": {},
   "source": [
    "Since there are a lot of data i will use the data for 4 major states: New York, Texas, California and Florida. So i will filter those:"
   ]
  },
  {
   "cell_type": "code",
   "execution_count": null,
   "metadata": {},
   "outputs": [
    {
     "data": {
      "text/html": [
       "<div>\n",
       "<style scoped>\n",
       "    .dataframe tbody tr th:only-of-type {\n",
       "        vertical-align: middle;\n",
       "    }\n",
       "\n",
       "    .dataframe tbody tr th {\n",
       "        vertical-align: top;\n",
       "    }\n",
       "\n",
       "    .dataframe thead th {\n",
       "        text-align: right;\n",
       "    }\n",
       "</style>\n",
       "<table border=\"1\" class=\"dataframe\">\n",
       "  <thead>\n",
       "    <tr style=\"text-align: right;\">\n",
       "      <th></th>\n",
       "      <th>id</th>\n",
       "      <th>category</th>\n",
       "      <th>title</th>\n",
       "      <th>bathrooms</th>\n",
       "      <th>bedrooms</th>\n",
       "      <th>currency</th>\n",
       "      <th>pets_allowed</th>\n",
       "      <th>price</th>\n",
       "      <th>square_feet</th>\n",
       "      <th>state</th>\n",
       "    </tr>\n",
       "  </thead>\n",
       "  <tbody>\n",
       "    <tr>\n",
       "      <th>30</th>\n",
       "      <td>5668630356</td>\n",
       "      <td>housing/rent/apartment</td>\n",
       "      <td>Two BR 4685 N. Haverhill Road</td>\n",
       "      <td>2.0</td>\n",
       "      <td>2.0</td>\n",
       "      <td>USD</td>\n",
       "      <td>Cats,Dogs</td>\n",
       "      <td>1740.0</td>\n",
       "      <td>1600</td>\n",
       "      <td>FL</td>\n",
       "    </tr>\n",
       "    <tr>\n",
       "      <th>54</th>\n",
       "      <td>5668622445</td>\n",
       "      <td>housing/rent/apartment</td>\n",
       "      <td>One BR 5230 Eastwinds Dr</td>\n",
       "      <td>1.0</td>\n",
       "      <td>1.0</td>\n",
       "      <td>USD</td>\n",
       "      <td>Cats,Dogs</td>\n",
       "      <td>973.0</td>\n",
       "      <td>509</td>\n",
       "      <td>FL</td>\n",
       "    </tr>\n",
       "    <tr>\n",
       "      <th>63</th>\n",
       "      <td>5668615006</td>\n",
       "      <td>housing/rent/apartment</td>\n",
       "      <td>Three BR 6465 Longleaf Branch Drive</td>\n",
       "      <td>2.0</td>\n",
       "      <td>3.0</td>\n",
       "      <td>USD</td>\n",
       "      <td>Cats,Dogs</td>\n",
       "      <td>1499.0</td>\n",
       "      <td>1544</td>\n",
       "      <td>FL</td>\n",
       "    </tr>\n",
       "    <tr>\n",
       "      <th>69</th>\n",
       "      <td>5668610263</td>\n",
       "      <td>housing/rent/apartment</td>\n",
       "      <td>One BR 190 112th Ave N</td>\n",
       "      <td>1.0</td>\n",
       "      <td>1.0</td>\n",
       "      <td>USD</td>\n",
       "      <td>Cats,Dogs</td>\n",
       "      <td>1055.0</td>\n",
       "      <td>550</td>\n",
       "      <td>FL</td>\n",
       "    </tr>\n",
       "    <tr>\n",
       "      <th>114</th>\n",
       "      <td>5668622224</td>\n",
       "      <td>housing/rent/apartment</td>\n",
       "      <td>One BR 2915 Sharer Road</td>\n",
       "      <td>1.0</td>\n",
       "      <td>1.0</td>\n",
       "      <td>USD</td>\n",
       "      <td>Cats,Dogs</td>\n",
       "      <td>949.0</td>\n",
       "      <td>625</td>\n",
       "      <td>FL</td>\n",
       "    </tr>\n",
       "    <tr>\n",
       "      <th>...</th>\n",
       "      <td>...</td>\n",
       "      <td>...</td>\n",
       "      <td>...</td>\n",
       "      <td>...</td>\n",
       "      <td>...</td>\n",
       "      <td>...</td>\n",
       "      <td>...</td>\n",
       "      <td>...</td>\n",
       "      <td>...</td>\n",
       "      <td>...</td>\n",
       "    </tr>\n",
       "    <tr>\n",
       "      <th>99461</th>\n",
       "      <td>5121227895</td>\n",
       "      <td>housing/rent/apartment</td>\n",
       "      <td>One BR Apartment in Jacksonville</td>\n",
       "      <td>1.0</td>\n",
       "      <td>1.0</td>\n",
       "      <td>USD</td>\n",
       "      <td>NaN</td>\n",
       "      <td>1390.0</td>\n",
       "      <td>848</td>\n",
       "      <td>FL</td>\n",
       "    </tr>\n",
       "    <tr>\n",
       "      <th>99465</th>\n",
       "      <td>5121227292</td>\n",
       "      <td>housing/rent/apartment</td>\n",
       "      <td>Two BR - Wynnfield Lakes Apartments. Pet OK!</td>\n",
       "      <td>2.0</td>\n",
       "      <td>2.0</td>\n",
       "      <td>USD</td>\n",
       "      <td>Cats,Dogs</td>\n",
       "      <td>1402.0</td>\n",
       "      <td>1245</td>\n",
       "      <td>FL</td>\n",
       "    </tr>\n",
       "    <tr>\n",
       "      <th>99470</th>\n",
       "      <td>5121226111</td>\n",
       "      <td>housing/rent/apartment</td>\n",
       "      <td>Convenient location One BR One BA for rent</td>\n",
       "      <td>1.0</td>\n",
       "      <td>1.0</td>\n",
       "      <td>USD</td>\n",
       "      <td>NaN</td>\n",
       "      <td>1550.0</td>\n",
       "      <td>942</td>\n",
       "      <td>FL</td>\n",
       "    </tr>\n",
       "    <tr>\n",
       "      <th>99486</th>\n",
       "      <td>5121221006</td>\n",
       "      <td>housing/rent/apartment</td>\n",
       "      <td>Great Central Location One BR, One BA</td>\n",
       "      <td>1.0</td>\n",
       "      <td>1.0</td>\n",
       "      <td>USD</td>\n",
       "      <td>Cats,Dogs</td>\n",
       "      <td>798.0</td>\n",
       "      <td>650</td>\n",
       "      <td>FL</td>\n",
       "    </tr>\n",
       "    <tr>\n",
       "      <th>99488</th>\n",
       "      <td>5121219696</td>\n",
       "      <td>housing/rent/apartment</td>\n",
       "      <td>The Best of the Best in the City of Jacksonvil...</td>\n",
       "      <td>2.0</td>\n",
       "      <td>2.0</td>\n",
       "      <td>USD</td>\n",
       "      <td>Cats,Dogs</td>\n",
       "      <td>813.0</td>\n",
       "      <td>921</td>\n",
       "      <td>FL</td>\n",
       "    </tr>\n",
       "  </tbody>\n",
       "</table>\n",
       "<p>5774 rows × 10 columns</p>\n",
       "</div>"
      ],
      "text/plain": [
       "               id                category  \\\n",
       "30     5668630356  housing/rent/apartment   \n",
       "54     5668622445  housing/rent/apartment   \n",
       "63     5668615006  housing/rent/apartment   \n",
       "69     5668610263  housing/rent/apartment   \n",
       "114    5668622224  housing/rent/apartment   \n",
       "...           ...                     ...   \n",
       "99461  5121227895  housing/rent/apartment   \n",
       "99465  5121227292  housing/rent/apartment   \n",
       "99470  5121226111  housing/rent/apartment   \n",
       "99486  5121221006  housing/rent/apartment   \n",
       "99488  5121219696  housing/rent/apartment   \n",
       "\n",
       "                                                   title  bathrooms  bedrooms  \\\n",
       "30                         Two BR 4685 N. Haverhill Road        2.0       2.0   \n",
       "54                              One BR 5230 Eastwinds Dr        1.0       1.0   \n",
       "63                   Three BR 6465 Longleaf Branch Drive        2.0       3.0   \n",
       "69                                One BR 190 112th Ave N        1.0       1.0   \n",
       "114                              One BR 2915 Sharer Road        1.0       1.0   \n",
       "...                                                  ...        ...       ...   \n",
       "99461                   One BR Apartment in Jacksonville        1.0       1.0   \n",
       "99465       Two BR - Wynnfield Lakes Apartments. Pet OK!        2.0       2.0   \n",
       "99470         Convenient location One BR One BA for rent        1.0       1.0   \n",
       "99486              Great Central Location One BR, One BA        1.0       1.0   \n",
       "99488  The Best of the Best in the City of Jacksonvil...        2.0       2.0   \n",
       "\n",
       "      currency pets_allowed   price  square_feet state  \n",
       "30         USD    Cats,Dogs  1740.0         1600    FL  \n",
       "54         USD    Cats,Dogs   973.0          509    FL  \n",
       "63         USD    Cats,Dogs  1499.0         1544    FL  \n",
       "69         USD    Cats,Dogs  1055.0          550    FL  \n",
       "114        USD    Cats,Dogs   949.0          625    FL  \n",
       "...        ...          ...     ...          ...   ...  \n",
       "99461      USD          NaN  1390.0          848    FL  \n",
       "99465      USD    Cats,Dogs  1402.0         1245    FL  \n",
       "99470      USD          NaN  1550.0          942    FL  \n",
       "99486      USD    Cats,Dogs   798.0          650    FL  \n",
       "99488      USD    Cats,Dogs   813.0          921    FL  \n",
       "\n",
       "[5774 rows x 10 columns]"
      ]
     },
     "execution_count": 20,
     "metadata": {},
     "output_type": "execute_result"
    }
   ],
   "source": [
    "df_ny=df[df[\"state\"]==\"NY\"]#dataframe for new york\n",
    "df_tx=df[df[\"state\"]==\"TX\"]#Dataframe for Texas\n",
    "df_ca=df[df[\"state\"]==\"CA\"]#Dataframe for California\n",
    "df_fl=df[df[\"state\"]==\"FL\"]#Dataframe for Florida\n"
   ]
  },
  {
   "cell_type": "markdown",
   "metadata": {},
   "source": [
    "### What I wanna do is make a linear regression where I take the square feet of the property as the independent variable and for the dependent variable to be the price for each of the states"
   ]
  },
  {
   "cell_type": "markdown",
   "metadata": {},
   "source": [
    "Lets make the variables"
   ]
  },
  {
   "cell_type": "code",
   "execution_count": 7,
   "metadata": {},
   "outputs": [],
   "source": [
    "#x will be the independent variable\n",
    "x=df['square_feet'].values.tolist()\n",
    "#y will be the dependent variable\n",
    "y=df['price'].values.tolist()"
   ]
  },
  {
   "cell_type": "markdown",
   "metadata": {},
   "source": [
    "Now creating the Linear regression stats"
   ]
  },
  {
   "cell_type": "code",
   "execution_count": 8,
   "metadata": {},
   "outputs": [],
   "source": [
    "slope, intercept, r, p, std_err = stats.linregress(x, y)"
   ]
  },
  {
   "cell_type": "markdown",
   "metadata": {},
   "source": [
    "The function of the Regression line will be:"
   ]
  },
  {
   "cell_type": "code",
   "execution_count": 9,
   "metadata": {},
   "outputs": [],
   "source": [
    "def ref_func(x):\n",
    "    return slope*x+intercept"
   ]
  },
  {
   "cell_type": "code",
   "execution_count": 10,
   "metadata": {},
   "outputs": [],
   "source": [
    "mymodel=list(map(ref_func,x))"
   ]
  },
  {
   "cell_type": "code",
   "execution_count": 11,
   "metadata": {},
   "outputs": [
    {
     "data": {
      "image/png": "[encoded data removed]",
      "text/plain": [
       "<Figure size 640x480 with 1 Axes>"
      ]
     },
     "metadata": {},
     "output_type": "display_data"
    }
   ],
   "source": [
    "import matplotlib.pyplot as plt\n",
    "\n",
    "plt.scatter(x=x,y=y)\n",
    "plt.plot(x,mymodel)\n",
    "plt.show()"
   ]
  },
  {
   "cell_type": "code",
   "execution_count": 12,
   "metadata": {},
   "outputs": [
    {
     "data": {
      "text/plain": [
       "np.float64(0.0)"
      ]
     },
     "execution_count": 12,
     "metadata": {},
     "output_type": "execute_result"
    }
   ],
   "source": [
    "p"
   ]
  }
 ],
 "metadata": {
  "kernelspec": {
   "display_name": "Python 3",
   "language": "python",
   "name": "python3"
  },
  "language_info": {
   "codemirror_mode": {
    "name": "ipython",
    "version": 3
   },
   "file_extension": ".py",
   "mimetype": "text/x-python",
   "name": "python",
   "nbconvert_exporter": "python",
   "pygments_lexer": "ipython3",
   "version": "3.12.0"
  }
 },
 "nbformat": 4,
 "nbformat_minor": 2
}
