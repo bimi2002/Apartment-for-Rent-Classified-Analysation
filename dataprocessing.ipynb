{
 "cells": [
  {
   "cell_type": "markdown",
   "metadata": {},
   "source": [
    "### The libraries needed"
   ]
  },
  {
   "cell_type": "code",
   "execution_count": 44,
   "metadata": {},
   "outputs": [],
   "source": [
    "import pandas as pd\n",
    "import numpy as np\n",
    "from scipy import stats\n",
    "import chardet"
   ]
  },
  {
   "cell_type": "markdown",
   "metadata": {},
   "source": [
    "Finding the encoding of the dataset"
   ]
  },
  {
   "cell_type": "code",
   "execution_count": 45,
   "metadata": {},
   "outputs": [
    {
     "name": "stdout",
     "output_type": "stream",
     "text": [
      "Windows-1252\n"
     ]
    }
   ],
   "source": [
    "\n",
    "with open(\"dataset.csv\", \"rb\") as f:\n",
    "    result = chardet.detect(f.read(100000))  # Read a chunk of the file\n",
    "    print(result[\"encoding\"])  # Print the detected encoding\n"
   ]
  },
  {
   "cell_type": "markdown",
   "metadata": {},
   "source": [
    "Loading the dataset but only some of the columns we need \n"
   ]
  },
  {
   "cell_type": "code",
   "execution_count": 46,
   "metadata": {},
   "outputs": [
    {
     "data": {
      "text/html": [
       "<div>\n",
       "<style scoped>\n",
       "    .dataframe tbody tr th:only-of-type {\n",
       "        vertical-align: middle;\n",
       "    }\n",
       "\n",
       "    .dataframe tbody tr th {\n",
       "        vertical-align: top;\n",
       "    }\n",
       "\n",
       "    .dataframe thead th {\n",
       "        text-align: right;\n",
       "    }\n",
       "</style>\n",
       "<table border=\"1\" class=\"dataframe\">\n",
       "  <thead>\n",
       "    <tr style=\"text-align: right;\">\n",
       "      <th></th>\n",
       "      <th>id</th>\n",
       "      <th>category</th>\n",
       "      <th>title</th>\n",
       "      <th>bathrooms</th>\n",
       "      <th>bedrooms</th>\n",
       "      <th>currency</th>\n",
       "      <th>pets_allowed</th>\n",
       "      <th>price</th>\n",
       "      <th>price_type</th>\n",
       "      <th>square_feet</th>\n",
       "      <th>state</th>\n",
       "    </tr>\n",
       "  </thead>\n",
       "  <tbody>\n",
       "    <tr>\n",
       "      <th>0</th>\n",
       "      <td>5668640009</td>\n",
       "      <td>housing/rent/apartment</td>\n",
       "      <td>One BR 507 &amp; 509 Esplanade</td>\n",
       "      <td>1.0</td>\n",
       "      <td>1.0</td>\n",
       "      <td>USD</td>\n",
       "      <td>Cats</td>\n",
       "      <td>2195.0</td>\n",
       "      <td>Monthly</td>\n",
       "      <td>542</td>\n",
       "      <td>CA</td>\n",
       "    </tr>\n",
       "    <tr>\n",
       "      <th>1</th>\n",
       "      <td>5668639818</td>\n",
       "      <td>housing/rent/apartment</td>\n",
       "      <td>Three BR 146 Lochview Drive</td>\n",
       "      <td>1.5</td>\n",
       "      <td>3.0</td>\n",
       "      <td>USD</td>\n",
       "      <td>Cats,Dogs</td>\n",
       "      <td>1250.0</td>\n",
       "      <td>Monthly</td>\n",
       "      <td>1500</td>\n",
       "      <td>VA</td>\n",
       "    </tr>\n",
       "    <tr>\n",
       "      <th>2</th>\n",
       "      <td>5668639686</td>\n",
       "      <td>housing/rent/apartment</td>\n",
       "      <td>Three BR 3101 Morningside Drive</td>\n",
       "      <td>2.0</td>\n",
       "      <td>3.0</td>\n",
       "      <td>USD</td>\n",
       "      <td>NaN</td>\n",
       "      <td>1395.0</td>\n",
       "      <td>Monthly</td>\n",
       "      <td>1650</td>\n",
       "      <td>NC</td>\n",
       "    </tr>\n",
       "    <tr>\n",
       "      <th>3</th>\n",
       "      <td>5668639659</td>\n",
       "      <td>housing/rent/apartment</td>\n",
       "      <td>Two BR 209 Aegean Way</td>\n",
       "      <td>1.0</td>\n",
       "      <td>2.0</td>\n",
       "      <td>USD</td>\n",
       "      <td>Cats,Dogs</td>\n",
       "      <td>1600.0</td>\n",
       "      <td>Monthly</td>\n",
       "      <td>820</td>\n",
       "      <td>CA</td>\n",
       "    </tr>\n",
       "    <tr>\n",
       "      <th>4</th>\n",
       "      <td>5668639374</td>\n",
       "      <td>housing/rent/apartment</td>\n",
       "      <td>One BR 4805 Marquette NE</td>\n",
       "      <td>1.0</td>\n",
       "      <td>1.0</td>\n",
       "      <td>USD</td>\n",
       "      <td>Cats,Dogs</td>\n",
       "      <td>975.0</td>\n",
       "      <td>Monthly</td>\n",
       "      <td>624</td>\n",
       "      <td>NM</td>\n",
       "    </tr>\n",
       "    <tr>\n",
       "      <th>...</th>\n",
       "      <td>...</td>\n",
       "      <td>...</td>\n",
       "      <td>...</td>\n",
       "      <td>...</td>\n",
       "      <td>...</td>\n",
       "      <td>...</td>\n",
       "      <td>...</td>\n",
       "      <td>...</td>\n",
       "      <td>...</td>\n",
       "      <td>...</td>\n",
       "      <td>...</td>\n",
       "    </tr>\n",
       "    <tr>\n",
       "      <th>95</th>\n",
       "      <td>5668633801</td>\n",
       "      <td>housing/rent/apartment</td>\n",
       "      <td>Two BR 1917 S. 18th St.</td>\n",
       "      <td>1.0</td>\n",
       "      <td>2.0</td>\n",
       "      <td>USD</td>\n",
       "      <td>Cats,Dogs</td>\n",
       "      <td>1015.0</td>\n",
       "      <td>Monthly</td>\n",
       "      <td>845</td>\n",
       "      <td>NE</td>\n",
       "    </tr>\n",
       "    <tr>\n",
       "      <th>96</th>\n",
       "      <td>5668632658</td>\n",
       "      <td>housing/rent/apartment</td>\n",
       "      <td>Three BR 7312 South 81st Street</td>\n",
       "      <td>2.0</td>\n",
       "      <td>3.0</td>\n",
       "      <td>USD</td>\n",
       "      <td>Cats,Dogs</td>\n",
       "      <td>1495.0</td>\n",
       "      <td>Monthly</td>\n",
       "      <td>1850</td>\n",
       "      <td>NE</td>\n",
       "    </tr>\n",
       "    <tr>\n",
       "      <th>97</th>\n",
       "      <td>5668632537</td>\n",
       "      <td>housing/rent/apartment</td>\n",
       "      <td>One BR 4301 Grand Avenue Parkway</td>\n",
       "      <td>1.0</td>\n",
       "      <td>1.0</td>\n",
       "      <td>USD</td>\n",
       "      <td>NaN</td>\n",
       "      <td>1103.0</td>\n",
       "      <td>Monthly</td>\n",
       "      <td>652</td>\n",
       "      <td>TX</td>\n",
       "    </tr>\n",
       "    <tr>\n",
       "      <th>98</th>\n",
       "      <td>5668632393</td>\n",
       "      <td>housing/rent/apartment</td>\n",
       "      <td>One BR 2101 W. ANDERSON LN.</td>\n",
       "      <td>1.0</td>\n",
       "      <td>1.0</td>\n",
       "      <td>USD</td>\n",
       "      <td>NaN</td>\n",
       "      <td>1032.0</td>\n",
       "      <td>Monthly</td>\n",
       "      <td>600</td>\n",
       "      <td>TX</td>\n",
       "    </tr>\n",
       "    <tr>\n",
       "      <th>99</th>\n",
       "      <td>5668632355</td>\n",
       "      <td>housing/rent/apartment</td>\n",
       "      <td>Studio apartment 311 Bowie</td>\n",
       "      <td>1.0</td>\n",
       "      <td>2.0</td>\n",
       "      <td>USD</td>\n",
       "      <td>NaN</td>\n",
       "      <td>1729.0</td>\n",
       "      <td>Monthly</td>\n",
       "      <td>448</td>\n",
       "      <td>TX</td>\n",
       "    </tr>\n",
       "  </tbody>\n",
       "</table>\n",
       "<p>100 rows × 11 columns</p>\n",
       "</div>"
      ],
      "text/plain": [
       "            id                category                             title  \\\n",
       "0   5668640009  housing/rent/apartment        One BR 507 & 509 Esplanade   \n",
       "1   5668639818  housing/rent/apartment       Three BR 146 Lochview Drive   \n",
       "2   5668639686  housing/rent/apartment   Three BR 3101 Morningside Drive   \n",
       "3   5668639659  housing/rent/apartment             Two BR 209 Aegean Way   \n",
       "4   5668639374  housing/rent/apartment          One BR 4805 Marquette NE   \n",
       "..         ...                     ...                               ...   \n",
       "95  5668633801  housing/rent/apartment           Two BR 1917 S. 18th St.   \n",
       "96  5668632658  housing/rent/apartment   Three BR 7312 South 81st Street   \n",
       "97  5668632537  housing/rent/apartment  One BR 4301 Grand Avenue Parkway   \n",
       "98  5668632393  housing/rent/apartment       One BR 2101 W. ANDERSON LN.   \n",
       "99  5668632355  housing/rent/apartment        Studio apartment 311 Bowie   \n",
       "\n",
       "    bathrooms  bedrooms currency pets_allowed   price price_type  square_feet  \\\n",
       "0         1.0       1.0      USD         Cats  2195.0    Monthly          542   \n",
       "1         1.5       3.0      USD    Cats,Dogs  1250.0    Monthly         1500   \n",
       "2         2.0       3.0      USD          NaN  1395.0    Monthly         1650   \n",
       "3         1.0       2.0      USD    Cats,Dogs  1600.0    Monthly          820   \n",
       "4         1.0       1.0      USD    Cats,Dogs   975.0    Monthly          624   \n",
       "..        ...       ...      ...          ...     ...        ...          ...   \n",
       "95        1.0       2.0      USD    Cats,Dogs  1015.0    Monthly          845   \n",
       "96        2.0       3.0      USD    Cats,Dogs  1495.0    Monthly         1850   \n",
       "97        1.0       1.0      USD          NaN  1103.0    Monthly          652   \n",
       "98        1.0       1.0      USD          NaN  1032.0    Monthly          600   \n",
       "99        1.0       2.0      USD          NaN  1729.0    Monthly          448   \n",
       "\n",
       "   state  \n",
       "0     CA  \n",
       "1     VA  \n",
       "2     NC  \n",
       "3     CA  \n",
       "4     NM  \n",
       "..   ...  \n",
       "95    NE  \n",
       "96    NE  \n",
       "97    TX  \n",
       "98    TX  \n",
       "99    TX  \n",
       "\n",
       "[100 rows x 11 columns]"
      ]
     },
     "execution_count": 46,
     "metadata": {},
     "output_type": "execute_result"
    }
   ],
   "source": [
    "df=pd.read_csv(\"dataset.csv\", encoding=\"Windows-1252\", sep=\";\",usecols=[0,1,2,5,6,7,10,11,13,14,17])\n",
    "df.head(100)"
   ]
  },
  {
   "cell_type": "markdown",
   "metadata": {},
   "source": [
    "It seems like we have mostly monthly bills and 3 weekly bills we will make it even by multiplying the price with 4 to make it monthly, as for the monthly|weekly part i will just drop it."
   ]
  },
  {
   "cell_type": "code",
   "execution_count": 47,
   "metadata": {},
   "outputs": [
    {
     "data": {
      "text/plain": [
       "price_type\n",
       "Monthly           99488\n",
       "Weekly                3\n",
       "Monthly|Weekly        1\n",
       "Name: count, dtype: int64"
      ]
     },
     "execution_count": 47,
     "metadata": {},
     "output_type": "execute_result"
    }
   ],
   "source": [
    "df[\"price_type\"].value_counts()"
   ]
  },
  {
   "cell_type": "code",
   "execution_count": 48,
   "metadata": {},
   "outputs": [],
   "source": [
    "df[\"price\"]=df.apply( lambda row: row[\"price\"]*4 if row[\"price_type\"]==\"Weekly\" else row[\"price\"],axis=1)\n",
    "df[\"price_type\"]=df.apply( lambda row: \"Monthly\" if row[\"price_type\"]==\"Weekly\" else row[\"price_type\"],axis=1)\n",
    "df=df[df[\"price_type\"]!= \"Monthly|Weekly\"]"
   ]
  },
  {
   "cell_type": "markdown",
   "metadata": {},
   "source": [
    "Lets drop the NaN values for the important variables"
   ]
  },
  {
   "cell_type": "code",
   "execution_count": 49,
   "metadata": {},
   "outputs": [],
   "source": [
    "df = df.dropna(subset=[\"price\"])"
   ]
  },
  {
   "cell_type": "code",
   "execution_count": 50,
   "metadata": {},
   "outputs": [
    {
     "data": {
      "text/plain": [
       "square_feet\n",
       "False    99490\n",
       "Name: count, dtype: int64"
      ]
     },
     "execution_count": 50,
     "metadata": {},
     "output_type": "execute_result"
    }
   ],
   "source": [
    "df[\"square_feet\"].isna().value_counts()\n",
    "#it doesnt have nan values so we will not perform anything"
   ]
  },
  {
   "cell_type": "markdown",
   "metadata": {},
   "source": [
    "Since there are a lot of data i will use the data for 4 major states: New York, Texas, California and Florida. So i will filter those:"
   ]
  },
  {
   "cell_type": "code",
   "execution_count": null,
   "metadata": {},
   "outputs": [],
   "source": [
    "df_ny=df[df[\"state\"]==\"NY\"]#Dataframe for new york\n",
    "df_tx=df[df[\"state\"]==\"TX\"]#Dataframe for Texas\n",
    "df_ca=df[df[\"state\"]==\"CA\"]#Dataframe for California\n",
    "df_fl=df[df[\"state\"]==\"FL\"]#Dataframe for Florida\n"
   ]
  },
  {
   "cell_type": "markdown",
   "metadata": {},
   "source": [
    "### What I wanna do is make a linear regression where I take the square feet of the property as the independent variable and for the dependent variable to be the price for each of the states"
   ]
  },
  {
   "cell_type": "code",
   "execution_count": 52,
   "metadata": {},
   "outputs": [],
   "source": [
    "#x will be the independent variable\n",
    "x_ny=df_ny['square_feet'].values.tolist()\n",
    "x_tx=df_tx['square_feet'].values.tolist()\n",
    "x_ca=df_ca['square_feet'].values.tolist()\n",
    "x_fl=df_fl['square_feet'].values.tolist()\n",
    "#y will be the dependent variable\n",
    "y_ny=df_ny['price'].values.tolist()\n",
    "y_tx=df_tx['price'].values.tolist()\n",
    "y_ca=df_ca['price'].values.tolist()\n",
    "y_fl=df_fl['price'].values.tolist()"
   ]
  },
  {
   "cell_type": "markdown",
   "metadata": {},
   "source": [
    "Now creating the Linear regression stats"
   ]
  },
  {
   "cell_type": "code",
   "execution_count": 53,
   "metadata": {},
   "outputs": [],
   "source": [
    "slope_ny, intercept_ny, r_ny, p_ny, std_err_ny = stats.linregress(x_ny, y_ny)\n",
    "slope_tx, intercept_tx, r_tx, p_tx, std_err_tx = stats.linregress(x_tx, y_tx)\n",
    "slope_ca, intercept_ca, r_ca, p_ca, std_err_ca = stats.linregress(x_ca, y_ca)\n",
    "slope_fl, intercept_fl, r_fl, p_fl, std_err_fl = stats.linregress(x_fl, y_fl)"
   ]
  },
  {
   "cell_type": "markdown",
   "metadata": {},
   "source": [
    "The functions of the Regression lines will be:"
   ]
  },
  {
   "cell_type": "code",
   "execution_count": 54,
   "metadata": {},
   "outputs": [],
   "source": [
    "def ref_func_ny(x):\n",
    "    return slope_ny*x+intercept_ny\n",
    "\n",
    "def ref_func_tx(x):\n",
    "    return slope_tx*x+intercept_tx\n",
    "\n",
    "def ref_func_ca(x):\n",
    "    return slope_ca*x+intercept_ca\n",
    "\n",
    "def ref_func_fl(x):\n",
    "    return slope_fl*x+intercept_fl"
   ]
  },
  {
   "cell_type": "markdown",
   "metadata": {},
   "source": [
    "Lets print the important findings that will be used in Power BI visualisations"
   ]
  },
  {
   "cell_type": "code",
   "execution_count": 55,
   "metadata": {},
   "outputs": [
    {
     "name": "stdout",
     "output_type": "stream",
     "text": [
      "0.2182635082421261 2377.9517777205097 2.4388301279374208e-05 0.05134658375275616\n",
      "0.7841285775092612 508.9743419683962 0.0 0.00944223002037154\n",
      "2.2569284293494105 374.58292819466715 0.0 0.0291989120513961\n",
      "1.3770875899050876 137.21566033206113 0.0 0.026814904642868426\n"
     ]
    }
   ],
   "source": [
    "print(slope_ny,intercept_ny,p_ny,std_err_ny)\n",
    "print(slope_tx,intercept_tx,p_tx,std_err_tx)\n",
    "print(slope_ca,intercept_ca,p_ca,std_err_ca)\n",
    "print(slope_fl,intercept_fl,p_fl,std_err_fl)"
   ]
  },
  {
   "cell_type": "markdown",
   "metadata": {},
   "source": [
    "Lets save the cleaned dataset so we can use it in Power BI"
   ]
  },
  {
   "cell_type": "code",
   "execution_count": 56,
   "metadata": {},
   "outputs": [],
   "source": [
    "df.to_csv(\"cleaned_dataset.csv\")"
   ]
  },
  {
   "cell_type": "code",
   "execution_count": 57,
   "metadata": {},
   "outputs": [
    {
     "data": {
      "text/plain": [
       "np.float64(0.5600534419377347)"
      ]
     },
     "execution_count": 57,
     "metadata": {},
     "output_type": "execute_result"
    }
   ],
   "source": [
    "correlation= df_fl[\"square_feet\"].corr(df_fl[\"price\"])\n",
    "correlation"
   ]
  }
 ],
 "metadata": {
  "kernelspec": {
   "display_name": "Python 3",
   "language": "python",
   "name": "python3"
  },
  "language_info": {
   "codemirror_mode": {
    "name": "ipython",
    "version": 3
   },
   "file_extension": ".py",
   "mimetype": "text/x-python",
   "name": "python",
   "nbconvert_exporter": "python",
   "pygments_lexer": "ipython3",
   "version": "3.12.0"
  }
 },
 "nbformat": 4,
 "nbformat_minor": 2
}
